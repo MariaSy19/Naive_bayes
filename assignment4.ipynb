{
 "cells": [
  {
   "cell_type": "code",
   "execution_count": 1,
   "metadata": {},
   "outputs": [],
   "source": [
    "import os\n",
    "from fractions import Fraction\n",
    "import pandas as pd"
   ]
  },
  {
   "cell_type": "code",
   "execution_count": 2,
   "metadata": {},
   "outputs": [],
   "source": [
    "HYPHEN_LINE = '-' * 50"
   ]
  },
  {
   "cell_type": "markdown",
   "metadata": {},
   "source": [
    "# calculate Likelihood probability\n"
   ]
  },
  {
   "cell_type": "code",
   "execution_count": 3,
   "metadata": {},
   "outputs": [],
   "source": [
    "\n",
    "def calc_likelihood_probs(data):\n",
    "    likelihoods = {}  \n",
    "    yes_group = data[data['Play Tennis'] == 'Yes']\n",
    "    no_group = data[data['Play Tennis'] == 'No']\n",
    "    classes = {'Yes': yes_group, 'No': no_group}  \n",
    "    for class_label, group in classes.items():\n",
    "        feature_likelihoods = {}  \n",
    "        for feature in group.columns[:-1]:\n",
    "            value_likelihoods = {}  \n",
    "            for value in group[feature]:\n",
    "                value_count = len(group[group[feature] == value])\n",
    "                value_likelihoods[value] = Fraction(value_count, len(group)).limit_denominator()  \n",
    "            feature_likelihoods[feature] = value_likelihoods\n",
    "        likelihoods[class_label] = feature_likelihoods\n",
    "    return likelihoods"
   ]
  },
  {
   "cell_type": "markdown",
   "metadata": {},
   "source": [
    "# calculate prior probability"
   ]
  },
  {
   "cell_type": "code",
   "execution_count": 4,
   "metadata": {},
   "outputs": [],
   "source": [
    "\n",
    "def calc_prior_probs(data):\n",
    "    total_count = len(data)  \n",
    "    class_labels = data['Play Tennis'].unique()  \n",
    "    prior_probs = {} \n",
    "    for class_label in class_labels:\n",
    "        class_group = data[data['Play Tennis'] == class_label] \n",
    "        class_count = len(class_group)  \n",
    "        prior_probs[class_label] = class_count / total_count \n",
    "    return prior_probs\n"
   ]
  },
  {
   "cell_type": "markdown",
   "metadata": {},
   "source": [
    "# pridect function"
   ]
  },
  {
   "cell_type": "code",
   "execution_count": 5,
   "metadata": {},
   "outputs": [],
   "source": [
    "def predict(test_sample, likelihood_probs, prior_probs):\n",
    "    yes_prob = prior_probs['Yes']\n",
    "    no_prob = prior_probs['No']\n",
    "    for feature, value in test_sample.items():\n",
    "        if value in likelihood_probs['Yes'][feature]: \n",
    "            yes_prob *= likelihood_probs['Yes'][feature][value]  \n",
    "        else:\n",
    "            yes_prob *= 0  \n",
    "        if value in likelihood_probs['No'][feature]:  \n",
    "            no_prob *= likelihood_probs['No'][feature][value]  \n",
    "        else:\n",
    "            no_prob *= 0  \n",
    "\n",
    "        print(f\"{HYPHEN_LINE}\\nP({feature}={value}|Play=Yes) = {likelihood_probs['Yes'][feature][value]}\")\n",
    "        print(f\"P({feature}={value}|Play=No) = {likelihood_probs['No'][feature][value]}\")\n",
    "\n",
    "    print(\n",
    "        f\"{HYPHEN_LINE}\\nP(Play=Yes) = {Fraction(prior_probs['Yes']).limit_denominator()} \\nP(Play=No) = {Fraction(prior_probs['No']).limit_denominator()}\")\n",
    "\n",
    "    print(f\"{HYPHEN_LINE}\\nP(Yes|X`) = {round(yes_prob, 4)} \\nP(No|X`) = {round(no_prob, 4)} \\n{HYPHEN_LINE}\")\n",
    "    return 'Yes' if yes_prob > no_prob else 'No' "
   ]
  },
  {
   "cell_type": "code",
   "execution_count": 10,
   "metadata": {},
   "outputs": [
    {
     "name": "stdout",
     "output_type": "stream",
     "text": [
      "--------------------------------------------------\n",
      "Outlook   Yes   No\n",
      "Overcast  4/9    0\n",
      "Rain      1/3  2/5\n",
      "Sunny     2/9  3/5\n",
      "--------------------------------------------------\n",
      "Temperature  Yes   No\n",
      "Cool         1/3  1/5\n",
      "Hot          2/9  2/5\n",
      "Mild         4/9  2/5\n",
      "--------------------------------------------------\n",
      "Humidity  Yes   No\n",
      "High      1/3  4/5\n",
      "Normal    2/3  1/5\n",
      "--------------------------------------------------\n",
      "Wind    Yes   No\n",
      "Strong  1/3  3/5\n",
      "Weak    2/3  2/5\n",
      "--------------------------------------------------\n",
      "\n",
      "X`= {'Outlook': 'Sunny', 'Temperature': 'Cool', 'Humidity': 'High', 'Wind': 'Strong'} \n",
      "\n",
      "--------------------------------------------------\n",
      "P(Outlook=Sunny|Play=Yes) = 2/9\n",
      "P(Outlook=Sunny|Play=No) = 3/5\n",
      "--------------------------------------------------\n",
      "P(Temperature=Cool|Play=Yes) = 1/3\n",
      "P(Temperature=Cool|Play=No) = 1/5\n",
      "--------------------------------------------------\n",
      "P(Humidity=High|Play=Yes) = 1/3\n",
      "P(Humidity=High|Play=No) = 4/5\n",
      "--------------------------------------------------\n",
      "P(Wind=Strong|Play=Yes) = 1/3\n",
      "P(Wind=Strong|Play=No) = 3/5\n",
      "--------------------------------------------------\n",
      "P(Play=Yes) = 9/14 \n",
      "P(Play=No) = 5/14\n",
      "--------------------------------------------------\n",
      "P(Yes|X`) = 0.0053 \n",
      "P(No|X`) = 0.0206 \n",
      "--------------------------------------------------\n",
      "Predicted class of X`: No\n"
     ]
    }
   ],
   "source": [
    "if __name__ == \"__main__\":\n",
    "    data = pd.read_csv(r'PlayTennis.csv')\n",
    "    \n",
    "    likelihood_probs = calc_likelihood_probs(data)\n",
    "    print(HYPHEN_LINE)\n",
    "    \n",
    "    for feature, values in likelihood_probs['Yes'].items():\n",
    "        df = pd.DataFrame({'Yes': values, 'No': likelihood_probs['No'][feature]}, columns=likelihood_probs.keys(),\n",
    "                          index=values.keys())\n",
    "        df.columns.name = feature\n",
    "        df = df.fillna(0)\n",
    "        df = df.sort_index(axis=0)\n",
    "        print(f\"{df}\\n{HYPHEN_LINE}\")\n",
    "    \n",
    "    prior_probs = calc_prior_probs(data)\n",
    "    test_sample = {'Outlook': 'Sunny', 'Temperature': 'Cool', 'Humidity': 'High', 'Wind': 'Strong'}  \n",
    "    \n",
    "    print(\"\\nX`=\", test_sample, \"\\n\")  \n",
    "   \n",
    "    predicted_class = predict(test_sample, likelihood_probs, prior_probs )\n",
    "    print(\"Predicted class of X`:\", predicted_class)"
   ]
  }
 ],
 "metadata": {
  "kernelspec": {
   "display_name": "base",
   "language": "python",
   "name": "python3"
  },
  "language_info": {
   "codemirror_mode": {
    "name": "ipython",
    "version": 3
   },
   "file_extension": ".py",
   "mimetype": "text/x-python",
   "name": "python",
   "nbconvert_exporter": "python",
   "pygments_lexer": "ipython3",
   "version": "3.11.5"
  }
 },
 "nbformat": 4,
 "nbformat_minor": 2
}
